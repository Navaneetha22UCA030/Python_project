{
 "cells": [
  {
   "cell_type": "markdown",
   "id": "41811f37",
   "metadata": {},
   "source": [
    "GOAL OF THE PROJECT:\n",
    "   \n",
    "   The goal is to study the Restaurant dataset clean it, create new features, and use charts and statistics to understand characteristics of Data."
   ]
  },
  {
   "cell_type": "markdown",
   "id": "6f3d9508",
   "metadata": {},
   "source": [
    "OBJECTIVES:\n",
    "-\n",
    "\n",
    "1.Understand the Rastaurant dataset\n",
    "\n",
    "2.Clean and preprocess the dataset\n",
    "\n",
    "3.Discover trends and outliers\n",
    "\n",
    "4.statistics Test\n",
    "\n",
    "5.Perform univariate, bivariate, and multivariate analysis"
   ]
  },
  {
   "cell_type": "markdown",
   "id": "e7919590",
   "metadata": {},
   "source": [
    "# Data understanding"
   ]
  },
  {
   "cell_type": "code",
   "execution_count": 64,
   "id": "fb4fa40f",
   "metadata": {},
   "outputs": [],
   "source": [
    "import numpy as np\n",
    "import pandas as pd\n",
    "import matplotlib.pyplot as plt\n",
    "import seaborn as sos\n",
    "import statistics\n",
    "from scipy.stats import chi2_contingency\n",
    "from scipy import stats\n",
    "from scipy.stats import ttest_ind\n",
    "from scipy.stats import f_oneway"
   ]
  },
  {
   "cell_type": "code",
   "execution_count": 3,
   "id": "2440ad4c",
   "metadata": {},
   "outputs": [],
   "source": [
    "df=pd.read_csv('Restaurant_Inspection_Results.csv')"
   ]
  },
  {
   "cell_type": "code",
   "execution_count": 4,
   "id": "7ae8aa84",
   "metadata": {},
   "outputs": [],
   "source": [
    "res1=df.copy()"
   ]
  },
  {
   "cell_type": "markdown",
   "id": "d17d1708",
   "metadata": {},
   "source": [
    "Restaurant Inspection Dataset\n",
    "Total Rows 290022 and 27 Columns"
   ]
  },
  {
   "cell_type": "code",
   "execution_count": 5,
   "id": "0708058d",
   "metadata": {},
   "outputs": [
    {
     "data": {
      "text/plain": [
       "Index(['CAMIS', 'DBA', 'BORO', 'BUILDING', 'STREET', 'ZIPCODE', 'PHONE',\n",
       "       'CUISINE DESCRIPTION', 'INSPECTION DATE', 'ACTION', 'VIOLATION CODE',\n",
       "       'VIOLATION DESCRIPTION', 'CRITICAL FLAG', 'SCORE', 'GRADE',\n",
       "       'GRADE DATE', 'RECORD DATE', 'INSPECTION TYPE', 'Latitude', 'Longitude',\n",
       "       'Community Board', 'Council District', 'Census Tract', 'BIN', 'BBL',\n",
       "       'NTA', 'Location Point1'],\n",
       "      dtype='object')"
      ]
     },
     "execution_count": 5,
     "metadata": {},
     "output_type": "execute_result"
    }
   ],
   "source": [
    "df.columns"
   ]
  },
  {
   "cell_type": "markdown",
   "id": "0034cafe",
   "metadata": {},
   "source": [
    "First 5 using head function"
   ]
  },
  {
   "cell_type": "code",
   "execution_count": 6,
   "id": "0722e23e",
   "metadata": {},
   "outputs": [
    {
     "data": {
      "text/html": [
       "<div>\n",
       "<style scoped>\n",
       "    .dataframe tbody tr th:only-of-type {\n",
       "        vertical-align: middle;\n",
       "    }\n",
       "\n",
       "    .dataframe tbody tr th {\n",
       "        vertical-align: top;\n",
       "    }\n",
       "\n",
       "    .dataframe thead th {\n",
       "        text-align: right;\n",
       "    }\n",
       "</style>\n",
       "<table border=\"1\" class=\"dataframe\">\n",
       "  <thead>\n",
       "    <tr style=\"text-align: right;\">\n",
       "      <th></th>\n",
       "      <th>CAMIS</th>\n",
       "      <th>DBA</th>\n",
       "      <th>BORO</th>\n",
       "      <th>BUILDING</th>\n",
       "      <th>STREET</th>\n",
       "      <th>ZIPCODE</th>\n",
       "      <th>PHONE</th>\n",
       "      <th>CUISINE DESCRIPTION</th>\n",
       "      <th>INSPECTION DATE</th>\n",
       "      <th>ACTION</th>\n",
       "      <th>...</th>\n",
       "      <th>INSPECTION TYPE</th>\n",
       "      <th>Latitude</th>\n",
       "      <th>Longitude</th>\n",
       "      <th>Community Board</th>\n",
       "      <th>Council District</th>\n",
       "      <th>Census Tract</th>\n",
       "      <th>BIN</th>\n",
       "      <th>BBL</th>\n",
       "      <th>NTA</th>\n",
       "      <th>Location Point1</th>\n",
       "    </tr>\n",
       "  </thead>\n",
       "  <tbody>\n",
       "    <tr>\n",
       "      <th>0</th>\n",
       "      <td>50114537</td>\n",
       "      <td>MAMA'S CUPBOARD</td>\n",
       "      <td>Manhattan</td>\n",
       "      <td>42</td>\n",
       "      <td>WEST   42 STREET</td>\n",
       "      <td>10036.0</td>\n",
       "      <td>6469191465</td>\n",
       "      <td>NaN</td>\n",
       "      <td>1/1/1900</td>\n",
       "      <td>NaN</td>\n",
       "      <td>...</td>\n",
       "      <td>NaN</td>\n",
       "      <td>40.754068</td>\n",
       "      <td>-73.982321</td>\n",
       "      <td>105.0</td>\n",
       "      <td>4.0</td>\n",
       "      <td>8400.0</td>\n",
       "      <td>1085593.0</td>\n",
       "      <td>1.012570e+09</td>\n",
       "      <td>MN17</td>\n",
       "      <td>NaN</td>\n",
       "    </tr>\n",
       "    <tr>\n",
       "      <th>1</th>\n",
       "      <td>50164148</td>\n",
       "      <td>TIENDA CHICOJ</td>\n",
       "      <td>Queens</td>\n",
       "      <td>10840</td>\n",
       "      <td>ROOSEVELT AVE</td>\n",
       "      <td>11368.0</td>\n",
       "      <td>7189166374</td>\n",
       "      <td>NaN</td>\n",
       "      <td>1/1/1900</td>\n",
       "      <td>NaN</td>\n",
       "      <td>...</td>\n",
       "      <td>NaN</td>\n",
       "      <td>40.750845</td>\n",
       "      <td>-73.858280</td>\n",
       "      <td>404.0</td>\n",
       "      <td>21.0</td>\n",
       "      <td>40100.0</td>\n",
       "      <td>4307718.0</td>\n",
       "      <td>4.019960e+09</td>\n",
       "      <td>QN26</td>\n",
       "      <td>NaN</td>\n",
       "    </tr>\n",
       "    <tr>\n",
       "      <th>2</th>\n",
       "      <td>50169870</td>\n",
       "      <td>TEX'S CHICKEN &amp; BURGERS</td>\n",
       "      <td>Queens</td>\n",
       "      <td>21712</td>\n",
       "      <td>MERRICK BLVD</td>\n",
       "      <td>11413.0</td>\n",
       "      <td>9178850048</td>\n",
       "      <td>NaN</td>\n",
       "      <td>1/1/1900</td>\n",
       "      <td>NaN</td>\n",
       "      <td>...</td>\n",
       "      <td>NaN</td>\n",
       "      <td>40.679915</td>\n",
       "      <td>-73.752087</td>\n",
       "      <td>413.0</td>\n",
       "      <td>31.0</td>\n",
       "      <td>35800.0</td>\n",
       "      <td>4279942.0</td>\n",
       "      <td>4.130110e+09</td>\n",
       "      <td>QN66</td>\n",
       "      <td>NaN</td>\n",
       "    </tr>\n",
       "    <tr>\n",
       "      <th>3</th>\n",
       "      <td>50132087</td>\n",
       "      <td>FANTASTIC BEASTS</td>\n",
       "      <td>Queens</td>\n",
       "      <td>36-10</td>\n",
       "      <td>UNION STREET</td>\n",
       "      <td>11354.0</td>\n",
       "      <td>2538807717</td>\n",
       "      <td>NaN</td>\n",
       "      <td>1/1/1900</td>\n",
       "      <td>NaN</td>\n",
       "      <td>...</td>\n",
       "      <td>NaN</td>\n",
       "      <td>40.763482</td>\n",
       "      <td>-73.828056</td>\n",
       "      <td>407.0</td>\n",
       "      <td>20.0</td>\n",
       "      <td>86900.0</td>\n",
       "      <td>4112354.0</td>\n",
       "      <td>4.049770e+09</td>\n",
       "      <td>QN22</td>\n",
       "      <td>NaN</td>\n",
       "    </tr>\n",
       "    <tr>\n",
       "      <th>4</th>\n",
       "      <td>50172040</td>\n",
       "      <td>BROAD STREET DELI</td>\n",
       "      <td>Manhattan</td>\n",
       "      <td>270</td>\n",
       "      <td>PARK AVENUE</td>\n",
       "      <td>10017.0</td>\n",
       "      <td>7043286780</td>\n",
       "      <td>NaN</td>\n",
       "      <td>1/1/1900</td>\n",
       "      <td>NaN</td>\n",
       "      <td>...</td>\n",
       "      <td>NaN</td>\n",
       "      <td>40.755634</td>\n",
       "      <td>-73.975109</td>\n",
       "      <td>105.0</td>\n",
       "      <td>4.0</td>\n",
       "      <td>9400.0</td>\n",
       "      <td>1035421.0</td>\n",
       "      <td>1.012830e+09</td>\n",
       "      <td>MN17</td>\n",
       "      <td>NaN</td>\n",
       "    </tr>\n",
       "  </tbody>\n",
       "</table>\n",
       "<p>5 rows × 27 columns</p>\n",
       "</div>"
      ],
      "text/plain": [
       "      CAMIS                      DBA       BORO BUILDING            STREET  \\\n",
       "0  50114537          MAMA'S CUPBOARD  Manhattan       42  WEST   42 STREET   \n",
       "1  50164148            TIENDA CHICOJ     Queens    10840     ROOSEVELT AVE   \n",
       "2  50169870  TEX'S CHICKEN & BURGERS     Queens    21712      MERRICK BLVD   \n",
       "3  50132087         FANTASTIC BEASTS     Queens    36-10      UNION STREET   \n",
       "4  50172040        BROAD STREET DELI  Manhattan      270       PARK AVENUE   \n",
       "\n",
       "   ZIPCODE       PHONE CUISINE DESCRIPTION INSPECTION DATE ACTION  ...  \\\n",
       "0  10036.0  6469191465                 NaN        1/1/1900    NaN  ...   \n",
       "1  11368.0  7189166374                 NaN        1/1/1900    NaN  ...   \n",
       "2  11413.0  9178850048                 NaN        1/1/1900    NaN  ...   \n",
       "3  11354.0  2538807717                 NaN        1/1/1900    NaN  ...   \n",
       "4  10017.0  7043286780                 NaN        1/1/1900    NaN  ...   \n",
       "\n",
       "  INSPECTION TYPE   Latitude  Longitude  Community Board Council District  \\\n",
       "0             NaN  40.754068 -73.982321            105.0              4.0   \n",
       "1             NaN  40.750845 -73.858280            404.0             21.0   \n",
       "2             NaN  40.679915 -73.752087            413.0             31.0   \n",
       "3             NaN  40.763482 -73.828056            407.0             20.0   \n",
       "4             NaN  40.755634 -73.975109            105.0              4.0   \n",
       "\n",
       "  Census Tract        BIN           BBL   NTA  Location Point1  \n",
       "0       8400.0  1085593.0  1.012570e+09  MN17              NaN  \n",
       "1      40100.0  4307718.0  4.019960e+09  QN26              NaN  \n",
       "2      35800.0  4279942.0  4.130110e+09  QN66              NaN  \n",
       "3      86900.0  4112354.0  4.049770e+09  QN22              NaN  \n",
       "4       9400.0  1035421.0  1.012830e+09  MN17              NaN  \n",
       "\n",
       "[5 rows x 27 columns]"
      ]
     },
     "execution_count": 6,
     "metadata": {},
     "output_type": "execute_result"
    }
   ],
   "source": [
    "dataframe=pd.DataFrame(df)\n",
    "dataframe.head()"
   ]
  },
  {
   "cell_type": "markdown",
   "id": "e4b01ead",
   "metadata": {},
   "source": [
    "last 5 using head function"
   ]
  },
  {
   "cell_type": "code",
   "execution_count": 7,
   "id": "fd064d5d",
   "metadata": {},
   "outputs": [
    {
     "data": {
      "text/html": [
       "<div>\n",
       "<style scoped>\n",
       "    .dataframe tbody tr th:only-of-type {\n",
       "        vertical-align: middle;\n",
       "    }\n",
       "\n",
       "    .dataframe tbody tr th {\n",
       "        vertical-align: top;\n",
       "    }\n",
       "\n",
       "    .dataframe thead th {\n",
       "        text-align: right;\n",
       "    }\n",
       "</style>\n",
       "<table border=\"1\" class=\"dataframe\">\n",
       "  <thead>\n",
       "    <tr style=\"text-align: right;\">\n",
       "      <th></th>\n",
       "      <th>CAMIS</th>\n",
       "      <th>DBA</th>\n",
       "      <th>BORO</th>\n",
       "      <th>BUILDING</th>\n",
       "      <th>STREET</th>\n",
       "      <th>ZIPCODE</th>\n",
       "      <th>PHONE</th>\n",
       "      <th>CUISINE DESCRIPTION</th>\n",
       "      <th>INSPECTION DATE</th>\n",
       "      <th>ACTION</th>\n",
       "      <th>...</th>\n",
       "      <th>INSPECTION TYPE</th>\n",
       "      <th>Latitude</th>\n",
       "      <th>Longitude</th>\n",
       "      <th>Community Board</th>\n",
       "      <th>Council District</th>\n",
       "      <th>Census Tract</th>\n",
       "      <th>BIN</th>\n",
       "      <th>BBL</th>\n",
       "      <th>NTA</th>\n",
       "      <th>Location Point1</th>\n",
       "    </tr>\n",
       "  </thead>\n",
       "  <tbody>\n",
       "    <tr>\n",
       "      <th>290017</th>\n",
       "      <td>50121962</td>\n",
       "      <td>BURGER KING</td>\n",
       "      <td>Brooklyn</td>\n",
       "      <td>9006</td>\n",
       "      <td>CHURCH AVENUE</td>\n",
       "      <td>11236.0</td>\n",
       "      <td>7184985574</td>\n",
       "      <td>Hamburgers</td>\n",
       "      <td>6/17/2022</td>\n",
       "      <td>Violations were cited in the following area(s).</td>\n",
       "      <td>...</td>\n",
       "      <td>Pre-permit (Operational) / Initial Inspection</td>\n",
       "      <td>40.652872</td>\n",
       "      <td>-73.919806</td>\n",
       "      <td>317.0</td>\n",
       "      <td>42.0</td>\n",
       "      <td>88800.0</td>\n",
       "      <td>3103358.0</td>\n",
       "      <td>3.047110e+09</td>\n",
       "      <td>BK96</td>\n",
       "      <td>NaN</td>\n",
       "    </tr>\n",
       "    <tr>\n",
       "      <th>290018</th>\n",
       "      <td>50150281</td>\n",
       "      <td>MADMAN ESPRESSO</td>\n",
       "      <td>Manhattan</td>\n",
       "      <td>721</td>\n",
       "      <td>BROADWAY</td>\n",
       "      <td>10003.0</td>\n",
       "      <td>3477811121</td>\n",
       "      <td>Coffee/Tea</td>\n",
       "      <td>2/10/2025</td>\n",
       "      <td>Violations were cited in the following area(s).</td>\n",
       "      <td>...</td>\n",
       "      <td>Pre-permit (Operational) / Initial Inspection</td>\n",
       "      <td>40.729306</td>\n",
       "      <td>-73.993502</td>\n",
       "      <td>102.0</td>\n",
       "      <td>2.0</td>\n",
       "      <td>5700.0</td>\n",
       "      <td>1088447.0</td>\n",
       "      <td>1.005470e+09</td>\n",
       "      <td>MN23</td>\n",
       "      <td>NaN</td>\n",
       "    </tr>\n",
       "    <tr>\n",
       "      <th>290019</th>\n",
       "      <td>40949905</td>\n",
       "      <td>KA WAH BAKERY</td>\n",
       "      <td>Manhattan</td>\n",
       "      <td>9</td>\n",
       "      <td>ELDRIDGE STREET</td>\n",
       "      <td>10002.0</td>\n",
       "      <td>2122260133</td>\n",
       "      <td>Chinese</td>\n",
       "      <td>7/13/2022</td>\n",
       "      <td>Violations were cited in the following area(s).</td>\n",
       "      <td>...</td>\n",
       "      <td>Cycle Inspection / Initial Inspection</td>\n",
       "      <td>40.714660</td>\n",
       "      <td>-73.993770</td>\n",
       "      <td>103.0</td>\n",
       "      <td>1.0</td>\n",
       "      <td>1600.0</td>\n",
       "      <td>1003772.0</td>\n",
       "      <td>1.002920e+09</td>\n",
       "      <td>MN27</td>\n",
       "      <td>NaN</td>\n",
       "    </tr>\n",
       "    <tr>\n",
       "      <th>290020</th>\n",
       "      <td>50121766</td>\n",
       "      <td>CROSSBAR / SOCCER POST UPPER WESTSIDE</td>\n",
       "      <td>Manhattan</td>\n",
       "      <td>250</td>\n",
       "      <td>WEST   86 STREET</td>\n",
       "      <td>10024.0</td>\n",
       "      <td>2126522238</td>\n",
       "      <td>American</td>\n",
       "      <td>11/14/2022</td>\n",
       "      <td>Violations were cited in the following area(s).</td>\n",
       "      <td>...</td>\n",
       "      <td>Administrative Miscellaneous / Initial Inspection</td>\n",
       "      <td>40.788484</td>\n",
       "      <td>-73.976942</td>\n",
       "      <td>107.0</td>\n",
       "      <td>6.0</td>\n",
       "      <td>17100.0</td>\n",
       "      <td>1081052.0</td>\n",
       "      <td>1.012330e+09</td>\n",
       "      <td>MN12</td>\n",
       "      <td>NaN</td>\n",
       "    </tr>\n",
       "    <tr>\n",
       "      <th>290021</th>\n",
       "      <td>41703865</td>\n",
       "      <td>SAFFRON</td>\n",
       "      <td>Queens</td>\n",
       "      <td>4404</td>\n",
       "      <td>BROADWAY</td>\n",
       "      <td>11103.0</td>\n",
       "      <td>7182556310</td>\n",
       "      <td>Indian</td>\n",
       "      <td>8/16/2022</td>\n",
       "      <td>Violations were cited in the following area(s).</td>\n",
       "      <td>...</td>\n",
       "      <td>Cycle Inspection / Initial Inspection</td>\n",
       "      <td>40.757393</td>\n",
       "      <td>-73.915669</td>\n",
       "      <td>401.0</td>\n",
       "      <td>26.0</td>\n",
       "      <td>15900.0</td>\n",
       "      <td>4012369.0</td>\n",
       "      <td>4.007070e+09</td>\n",
       "      <td>QN70</td>\n",
       "      <td>NaN</td>\n",
       "    </tr>\n",
       "  </tbody>\n",
       "</table>\n",
       "<p>5 rows × 27 columns</p>\n",
       "</div>"
      ],
      "text/plain": [
       "           CAMIS                                    DBA       BORO BUILDING  \\\n",
       "290017  50121962                            BURGER KING   Brooklyn     9006   \n",
       "290018  50150281                        MADMAN ESPRESSO  Manhattan      721   \n",
       "290019  40949905                          KA WAH BAKERY  Manhattan        9   \n",
       "290020  50121766  CROSSBAR / SOCCER POST UPPER WESTSIDE  Manhattan      250   \n",
       "290021  41703865                                SAFFRON     Queens     4404   \n",
       "\n",
       "                  STREET  ZIPCODE       PHONE CUISINE DESCRIPTION  \\\n",
       "290017     CHURCH AVENUE  11236.0  7184985574          Hamburgers   \n",
       "290018          BROADWAY  10003.0  3477811121          Coffee/Tea   \n",
       "290019   ELDRIDGE STREET  10002.0  2122260133             Chinese   \n",
       "290020  WEST   86 STREET  10024.0  2126522238            American   \n",
       "290021          BROADWAY  11103.0  7182556310              Indian   \n",
       "\n",
       "       INSPECTION DATE                                           ACTION  ...  \\\n",
       "290017       6/17/2022  Violations were cited in the following area(s).  ...   \n",
       "290018       2/10/2025  Violations were cited in the following area(s).  ...   \n",
       "290019       7/13/2022  Violations were cited in the following area(s).  ...   \n",
       "290020      11/14/2022  Violations were cited in the following area(s).  ...   \n",
       "290021       8/16/2022  Violations were cited in the following area(s).  ...   \n",
       "\n",
       "                                          INSPECTION TYPE   Latitude  \\\n",
       "290017      Pre-permit (Operational) / Initial Inspection  40.652872   \n",
       "290018      Pre-permit (Operational) / Initial Inspection  40.729306   \n",
       "290019              Cycle Inspection / Initial Inspection  40.714660   \n",
       "290020  Administrative Miscellaneous / Initial Inspection  40.788484   \n",
       "290021              Cycle Inspection / Initial Inspection  40.757393   \n",
       "\n",
       "        Longitude  Community Board Council District Census Tract        BIN  \\\n",
       "290017 -73.919806            317.0             42.0      88800.0  3103358.0   \n",
       "290018 -73.993502            102.0              2.0       5700.0  1088447.0   \n",
       "290019 -73.993770            103.0              1.0       1600.0  1003772.0   \n",
       "290020 -73.976942            107.0              6.0      17100.0  1081052.0   \n",
       "290021 -73.915669            401.0             26.0      15900.0  4012369.0   \n",
       "\n",
       "                 BBL   NTA  Location Point1  \n",
       "290017  3.047110e+09  BK96              NaN  \n",
       "290018  1.005470e+09  MN23              NaN  \n",
       "290019  1.002920e+09  MN27              NaN  \n",
       "290020  1.012330e+09  MN12              NaN  \n",
       "290021  4.007070e+09  QN70              NaN  \n",
       "\n",
       "[5 rows x 27 columns]"
      ]
     },
     "execution_count": 7,
     "metadata": {},
     "output_type": "execute_result"
    }
   ],
   "source": [
    "dataframe.tail()"
   ]
  },
  {
   "cell_type": "markdown",
   "id": "822140bd",
   "metadata": {},
   "source": [
    "Describe function for describe about the value"
   ]
  },
  {
   "cell_type": "code",
   "execution_count": 54,
   "id": "ae0b0267",
   "metadata": {},
   "outputs": [
    {
     "data": {
      "text/html": [
       "<div>\n",
       "<style scoped>\n",
       "    .dataframe tbody tr th:only-of-type {\n",
       "        vertical-align: middle;\n",
       "    }\n",
       "\n",
       "    .dataframe tbody tr th {\n",
       "        vertical-align: top;\n",
       "    }\n",
       "\n",
       "    .dataframe thead th {\n",
       "        text-align: right;\n",
       "    }\n",
       "</style>\n",
       "<table border=\"1\" class=\"dataframe\">\n",
       "  <thead>\n",
       "    <tr style=\"text-align: right;\">\n",
       "      <th></th>\n",
       "      <th>score</th>\n",
       "    </tr>\n",
       "  </thead>\n",
       "  <tbody>\n",
       "    <tr>\n",
       "      <th>count</th>\n",
       "      <td>274080.000000</td>\n",
       "    </tr>\n",
       "    <tr>\n",
       "      <th>mean</th>\n",
       "      <td>24.825354</td>\n",
       "    </tr>\n",
       "    <tr>\n",
       "      <th>std</th>\n",
       "      <td>18.609477</td>\n",
       "    </tr>\n",
       "    <tr>\n",
       "      <th>min</th>\n",
       "      <td>0.000000</td>\n",
       "    </tr>\n",
       "    <tr>\n",
       "      <th>25%</th>\n",
       "      <td>12.000000</td>\n",
       "    </tr>\n",
       "    <tr>\n",
       "      <th>50%</th>\n",
       "      <td>21.000000</td>\n",
       "    </tr>\n",
       "    <tr>\n",
       "      <th>75%</th>\n",
       "      <td>33.000000</td>\n",
       "    </tr>\n",
       "    <tr>\n",
       "      <th>max</th>\n",
       "      <td>175.000000</td>\n",
       "    </tr>\n",
       "  </tbody>\n",
       "</table>\n",
       "</div>"
      ],
      "text/plain": [
       "               score\n",
       "count  274080.000000\n",
       "mean       24.825354\n",
       "std        18.609477\n",
       "min         0.000000\n",
       "25%        12.000000\n",
       "50%        21.000000\n",
       "75%        33.000000\n",
       "max       175.000000"
      ]
     },
     "execution_count": 54,
     "metadata": {},
     "output_type": "execute_result"
    }
   ],
   "source": [
    "drop_col_new=df.drop(['S.No','building','street','zipcode','phone','action','violation_code','violation_description','cuisine_description','latitude','longitude','community_board','council_district','census_tract','bin','bbl','nta','location_point1'], axis=1,errors='ignore')\n",
    "drop_col_new.describe()"
   ]
  },
  {
   "cell_type": "markdown",
   "id": "e5a090de",
   "metadata": {},
   "source": [
    "Info function for information of data set datatype"
   ]
  },
  {
   "cell_type": "code",
   "execution_count": 9,
   "id": "e8bc35dd",
   "metadata": {},
   "outputs": [
    {
     "name": "stdout",
     "output_type": "stream",
     "text": [
      "<class 'pandas.core.frame.DataFrame'>\n",
      "RangeIndex: 290022 entries, 0 to 290021\n",
      "Data columns (total 27 columns):\n",
      " #   Column                 Non-Null Count   Dtype  \n",
      "---  ------                 --------------   -----  \n",
      " 0   CAMIS                  290022 non-null  int64  \n",
      " 1   DBA                    290015 non-null  object \n",
      " 2   BORO                   290022 non-null  object \n",
      " 3   BUILDING               289516 non-null  object \n",
      " 4   STREET                 290021 non-null  object \n",
      " 5   ZIPCODE                287205 non-null  float64\n",
      " 6   PHONE                  290016 non-null  object \n",
      " 7   CUISINE DESCRIPTION    286337 non-null  object \n",
      " 8   INSPECTION DATE        290022 non-null  object \n",
      " 9   ACTION                 286337 non-null  object \n",
      " 10  VIOLATION CODE         284189 non-null  object \n",
      " 11  VIOLATION DESCRIPTION  284189 non-null  object \n",
      " 12  CRITICAL FLAG          290022 non-null  object \n",
      " 13  SCORE                  274080 non-null  float64\n",
      " 14  GRADE                  141303 non-null  object \n",
      " 15  GRADE DATE             133193 non-null  object \n",
      " 16  RECORD DATE            290022 non-null  object \n",
      " 17  INSPECTION TYPE        286337 non-null  object \n",
      " 18  Latitude               289611 non-null  float64\n",
      " 19  Longitude              289611 non-null  float64\n",
      " 20  Community Board        286401 non-null  float64\n",
      " 21  Council District       286402 non-null  float64\n",
      " 22  Census Tract           286402 non-null  float64\n",
      " 23  BIN                    285008 non-null  float64\n",
      " 24  BBL                    289217 non-null  float64\n",
      " 25  NTA                    286401 non-null  object \n",
      " 26  Location Point1        0 non-null       float64\n",
      "dtypes: float64(10), int64(1), object(16)\n",
      "memory usage: 59.7+ MB\n"
     ]
    }
   ],
   "source": [
    "df.info()"
   ]
  },
  {
   "cell_type": "markdown",
   "id": "791fb421",
   "metadata": {},
   "source": [
    "# Data Cleaning"
   ]
  },
  {
   "cell_type": "code",
   "execution_count": 10,
   "id": "9375fbc4",
   "metadata": {},
   "outputs": [
    {
     "name": "stdout",
     "output_type": "stream",
     "text": [
      "Row 290022\n",
      "column 27\n"
     ]
    }
   ],
   "source": [
    "print('Row',df.shape[0])\n",
    "print('column',df.shape[1])"
   ]
  },
  {
   "cell_type": "markdown",
   "id": "7895cb14",
   "metadata": {},
   "source": [
    "Finding Null values for Columns"
   ]
  },
  {
   "cell_type": "code",
   "execution_count": 11,
   "id": "263b9fb7",
   "metadata": {},
   "outputs": [
    {
     "data": {
      "text/plain": [
       "CAMIS                         0\n",
       "DBA                           7\n",
       "BORO                          0\n",
       "BUILDING                    506\n",
       "STREET                        1\n",
       "ZIPCODE                    2817\n",
       "PHONE                         6\n",
       "CUISINE DESCRIPTION        3685\n",
       "INSPECTION DATE               0\n",
       "ACTION                     3685\n",
       "VIOLATION CODE             5833\n",
       "VIOLATION DESCRIPTION      5833\n",
       "CRITICAL FLAG                 0\n",
       "SCORE                     15942\n",
       "GRADE                    148719\n",
       "GRADE DATE               156829\n",
       "RECORD DATE                   0\n",
       "INSPECTION TYPE            3685\n",
       "Latitude                    411\n",
       "Longitude                   411\n",
       "Community Board            3621\n",
       "Council District           3620\n",
       "Census Tract               3620\n",
       "BIN                        5014\n",
       "BBL                         805\n",
       "NTA                        3621\n",
       "Location Point1          290022\n",
       "dtype: int64"
      ]
     },
     "execution_count": 11,
     "metadata": {},
     "output_type": "execute_result"
    }
   ],
   "source": [
    "df.isnull().sum()"
   ]
  },
  {
   "cell_type": "markdown",
   "id": "618888d7",
   "metadata": {},
   "source": [
    "Finding Null values for total dataset"
   ]
  },
  {
   "cell_type": "code",
   "execution_count": 12,
   "id": "5cb1d687",
   "metadata": {},
   "outputs": [
    {
     "data": {
      "text/plain": [
       "np.int64(658693)"
      ]
     },
     "execution_count": 12,
     "metadata": {},
     "output_type": "execute_result"
    }
   ],
   "source": [
    "df.isnull().sum().sum()"
   ]
  },
  {
   "cell_type": "markdown",
   "id": "46941436",
   "metadata": {},
   "source": [
    "Change a column names"
   ]
  },
  {
   "cell_type": "code",
   "execution_count": 13,
   "id": "bbe97194",
   "metadata": {},
   "outputs": [
    {
     "data": {
      "text/plain": [
       "Index(['S.No', 'Restaurant_Name', 'Restaurant_location', 'building', 'street',\n",
       "       'zipcode', 'phone', 'cuisine_description', 'inspection_date', 'action',\n",
       "       'violation_code', 'violation_description', 'critical_flag', 'score',\n",
       "       'grade', 'grade_date', 'record_date', 'inspection_type', 'latitude',\n",
       "       'longitude', 'community_board', 'council_district', 'census_tract',\n",
       "       'bin', 'bbl', 'nta', 'location_point1'],\n",
       "      dtype='object')"
      ]
     },
     "execution_count": 13,
     "metadata": {},
     "output_type": "execute_result"
    }
   ],
   "source": [
    "df.columns = df.columns.str.replace(\" \", \"_\").str.lower()\n",
    "df.rename(columns={'camis':'S.No'},inplace=True)\n",
    "df.rename(columns={'dba':'Restaurant_Name'},inplace=True)\n",
    "df.rename(columns={'boro':'Restaurant_location'},inplace=True)\n",
    "df.columns"
   ]
  },
  {
   "cell_type": "code",
   "execution_count": 14,
   "id": "5eb406b1",
   "metadata": {},
   "outputs": [
    {
     "data": {
      "text/plain": [
       "2"
      ]
     },
     "execution_count": 14,
     "metadata": {},
     "output_type": "execute_result"
    }
   ],
   "source": [
    "df.ndim"
   ]
  },
  {
   "cell_type": "code",
   "execution_count": 15,
   "id": "fb666f55",
   "metadata": {},
   "outputs": [
    {
     "data": {
      "text/plain": [
       "S.No                     30538\n",
       "Restaurant_Name          24283\n",
       "Restaurant_location          6\n",
       "building                  7657\n",
       "street                    2457\n",
       "zipcode                    237\n",
       "phone                    27094\n",
       "cuisine_description         89\n",
       "inspection_date           1798\n",
       "action                       5\n",
       "violation_code             149\n",
       "violation_description      226\n",
       "critical_flag                3\n",
       "score                      142\n",
       "grade                        6\n",
       "grade_date                1579\n",
       "record_date                  1\n",
       "inspection_type             33\n",
       "latitude                 24407\n",
       "longitude                24424\n",
       "community_board             68\n",
       "council_district            51\n",
       "census_tract              1184\n",
       "bin                      21154\n",
       "bbl                      20793\n",
       "nta                        193\n",
       "location_point1              0\n",
       "dtype: int64"
      ]
     },
     "execution_count": 15,
     "metadata": {},
     "output_type": "execute_result"
    }
   ],
   "source": [
    "df.nunique()"
   ]
  },
  {
   "cell_type": "code",
   "execution_count": 16,
   "id": "d07fa5d1",
   "metadata": {},
   "outputs": [
    {
     "data": {
      "text/plain": [
       "score\n",
       "12.0     23805\n",
       "13.0     23265\n",
       "10.0     11163\n",
       "11.0     10338\n",
       "9.0       9234\n",
       "         ...  \n",
       "141.0        9\n",
       "144.0        9\n",
       "122.0        8\n",
       "153.0        7\n",
       "140.0        5\n",
       "Name: count, Length: 142, dtype: int64"
      ]
     },
     "execution_count": 16,
     "metadata": {},
     "output_type": "execute_result"
    }
   ],
   "source": [
    "df['score'].value_counts()"
   ]
  },
  {
   "cell_type": "markdown",
   "id": "8b0eca18",
   "metadata": {},
   "source": [
    "Finding a total duplicat"
   ]
  },
  {
   "cell_type": "code",
   "execution_count": 17,
   "id": "4fdc873d",
   "metadata": {},
   "outputs": [
    {
     "data": {
      "text/plain": [
       "np.int64(6)"
      ]
     },
     "execution_count": 17,
     "metadata": {},
     "output_type": "execute_result"
    }
   ],
   "source": [
    "df.duplicated().sum()"
   ]
  },
  {
   "cell_type": "markdown",
   "id": "1ba1db61",
   "metadata": {},
   "source": [
    "Drop Duplicate"
   ]
  },
  {
   "cell_type": "code",
   "execution_count": 18,
   "id": "06bd228b",
   "metadata": {},
   "outputs": [
    {
     "data": {
      "text/html": [
       "<div>\n",
       "<style scoped>\n",
       "    .dataframe tbody tr th:only-of-type {\n",
       "        vertical-align: middle;\n",
       "    }\n",
       "\n",
       "    .dataframe tbody tr th {\n",
       "        vertical-align: top;\n",
       "    }\n",
       "\n",
       "    .dataframe thead th {\n",
       "        text-align: right;\n",
       "    }\n",
       "</style>\n",
       "<table border=\"1\" class=\"dataframe\">\n",
       "  <thead>\n",
       "    <tr style=\"text-align: right;\">\n",
       "      <th></th>\n",
       "      <th>S.No</th>\n",
       "      <th>Restaurant_Name</th>\n",
       "      <th>Restaurant_location</th>\n",
       "      <th>building</th>\n",
       "      <th>street</th>\n",
       "      <th>zipcode</th>\n",
       "      <th>phone</th>\n",
       "      <th>cuisine_description</th>\n",
       "      <th>inspection_date</th>\n",
       "      <th>action</th>\n",
       "      <th>...</th>\n",
       "      <th>inspection_type</th>\n",
       "      <th>latitude</th>\n",
       "      <th>longitude</th>\n",
       "      <th>community_board</th>\n",
       "      <th>council_district</th>\n",
       "      <th>census_tract</th>\n",
       "      <th>bin</th>\n",
       "      <th>bbl</th>\n",
       "      <th>nta</th>\n",
       "      <th>location_point1</th>\n",
       "    </tr>\n",
       "  </thead>\n",
       "  <tbody>\n",
       "    <tr>\n",
       "      <th>0</th>\n",
       "      <td>50114537</td>\n",
       "      <td>MAMA'S CUPBOARD</td>\n",
       "      <td>Manhattan</td>\n",
       "      <td>42</td>\n",
       "      <td>WEST   42 STREET</td>\n",
       "      <td>10036.0</td>\n",
       "      <td>6469191465</td>\n",
       "      <td>NaN</td>\n",
       "      <td>1/1/1900</td>\n",
       "      <td>NaN</td>\n",
       "      <td>...</td>\n",
       "      <td>NaN</td>\n",
       "      <td>40.754068</td>\n",
       "      <td>-73.982321</td>\n",
       "      <td>105.0</td>\n",
       "      <td>4.0</td>\n",
       "      <td>8400.0</td>\n",
       "      <td>1085593.0</td>\n",
       "      <td>1.012570e+09</td>\n",
       "      <td>MN17</td>\n",
       "      <td>NaN</td>\n",
       "    </tr>\n",
       "    <tr>\n",
       "      <th>1</th>\n",
       "      <td>50164148</td>\n",
       "      <td>TIENDA CHICOJ</td>\n",
       "      <td>Queens</td>\n",
       "      <td>10840</td>\n",
       "      <td>ROOSEVELT AVE</td>\n",
       "      <td>11368.0</td>\n",
       "      <td>7189166374</td>\n",
       "      <td>NaN</td>\n",
       "      <td>1/1/1900</td>\n",
       "      <td>NaN</td>\n",
       "      <td>...</td>\n",
       "      <td>NaN</td>\n",
       "      <td>40.750845</td>\n",
       "      <td>-73.858280</td>\n",
       "      <td>404.0</td>\n",
       "      <td>21.0</td>\n",
       "      <td>40100.0</td>\n",
       "      <td>4307718.0</td>\n",
       "      <td>4.019960e+09</td>\n",
       "      <td>QN26</td>\n",
       "      <td>NaN</td>\n",
       "    </tr>\n",
       "    <tr>\n",
       "      <th>2</th>\n",
       "      <td>50169870</td>\n",
       "      <td>TEX'S CHICKEN &amp; BURGERS</td>\n",
       "      <td>Queens</td>\n",
       "      <td>21712</td>\n",
       "      <td>MERRICK BLVD</td>\n",
       "      <td>11413.0</td>\n",
       "      <td>9178850048</td>\n",
       "      <td>NaN</td>\n",
       "      <td>1/1/1900</td>\n",
       "      <td>NaN</td>\n",
       "      <td>...</td>\n",
       "      <td>NaN</td>\n",
       "      <td>40.679915</td>\n",
       "      <td>-73.752087</td>\n",
       "      <td>413.0</td>\n",
       "      <td>31.0</td>\n",
       "      <td>35800.0</td>\n",
       "      <td>4279942.0</td>\n",
       "      <td>4.130110e+09</td>\n",
       "      <td>QN66</td>\n",
       "      <td>NaN</td>\n",
       "    </tr>\n",
       "    <tr>\n",
       "      <th>3</th>\n",
       "      <td>50132087</td>\n",
       "      <td>FANTASTIC BEASTS</td>\n",
       "      <td>Queens</td>\n",
       "      <td>36-10</td>\n",
       "      <td>UNION STREET</td>\n",
       "      <td>11354.0</td>\n",
       "      <td>2538807717</td>\n",
       "      <td>NaN</td>\n",
       "      <td>1/1/1900</td>\n",
       "      <td>NaN</td>\n",
       "      <td>...</td>\n",
       "      <td>NaN</td>\n",
       "      <td>40.763482</td>\n",
       "      <td>-73.828056</td>\n",
       "      <td>407.0</td>\n",
       "      <td>20.0</td>\n",
       "      <td>86900.0</td>\n",
       "      <td>4112354.0</td>\n",
       "      <td>4.049770e+09</td>\n",
       "      <td>QN22</td>\n",
       "      <td>NaN</td>\n",
       "    </tr>\n",
       "    <tr>\n",
       "      <th>4</th>\n",
       "      <td>50172040</td>\n",
       "      <td>BROAD STREET DELI</td>\n",
       "      <td>Manhattan</td>\n",
       "      <td>270</td>\n",
       "      <td>PARK AVENUE</td>\n",
       "      <td>10017.0</td>\n",
       "      <td>7043286780</td>\n",
       "      <td>NaN</td>\n",
       "      <td>1/1/1900</td>\n",
       "      <td>NaN</td>\n",
       "      <td>...</td>\n",
       "      <td>NaN</td>\n",
       "      <td>40.755634</td>\n",
       "      <td>-73.975109</td>\n",
       "      <td>105.0</td>\n",
       "      <td>4.0</td>\n",
       "      <td>9400.0</td>\n",
       "      <td>1035421.0</td>\n",
       "      <td>1.012830e+09</td>\n",
       "      <td>MN17</td>\n",
       "      <td>NaN</td>\n",
       "    </tr>\n",
       "    <tr>\n",
       "      <th>...</th>\n",
       "      <td>...</td>\n",
       "      <td>...</td>\n",
       "      <td>...</td>\n",
       "      <td>...</td>\n",
       "      <td>...</td>\n",
       "      <td>...</td>\n",
       "      <td>...</td>\n",
       "      <td>...</td>\n",
       "      <td>...</td>\n",
       "      <td>...</td>\n",
       "      <td>...</td>\n",
       "      <td>...</td>\n",
       "      <td>...</td>\n",
       "      <td>...</td>\n",
       "      <td>...</td>\n",
       "      <td>...</td>\n",
       "      <td>...</td>\n",
       "      <td>...</td>\n",
       "      <td>...</td>\n",
       "      <td>...</td>\n",
       "      <td>...</td>\n",
       "    </tr>\n",
       "    <tr>\n",
       "      <th>290017</th>\n",
       "      <td>50121962</td>\n",
       "      <td>BURGER KING</td>\n",
       "      <td>Brooklyn</td>\n",
       "      <td>9006</td>\n",
       "      <td>CHURCH AVENUE</td>\n",
       "      <td>11236.0</td>\n",
       "      <td>7184985574</td>\n",
       "      <td>Hamburgers</td>\n",
       "      <td>6/17/2022</td>\n",
       "      <td>Violations were cited in the following area(s).</td>\n",
       "      <td>...</td>\n",
       "      <td>Pre-permit (Operational) / Initial Inspection</td>\n",
       "      <td>40.652872</td>\n",
       "      <td>-73.919806</td>\n",
       "      <td>317.0</td>\n",
       "      <td>42.0</td>\n",
       "      <td>88800.0</td>\n",
       "      <td>3103358.0</td>\n",
       "      <td>3.047110e+09</td>\n",
       "      <td>BK96</td>\n",
       "      <td>NaN</td>\n",
       "    </tr>\n",
       "    <tr>\n",
       "      <th>290018</th>\n",
       "      <td>50150281</td>\n",
       "      <td>MADMAN ESPRESSO</td>\n",
       "      <td>Manhattan</td>\n",
       "      <td>721</td>\n",
       "      <td>BROADWAY</td>\n",
       "      <td>10003.0</td>\n",
       "      <td>3477811121</td>\n",
       "      <td>Coffee/Tea</td>\n",
       "      <td>2/10/2025</td>\n",
       "      <td>Violations were cited in the following area(s).</td>\n",
       "      <td>...</td>\n",
       "      <td>Pre-permit (Operational) / Initial Inspection</td>\n",
       "      <td>40.729306</td>\n",
       "      <td>-73.993502</td>\n",
       "      <td>102.0</td>\n",
       "      <td>2.0</td>\n",
       "      <td>5700.0</td>\n",
       "      <td>1088447.0</td>\n",
       "      <td>1.005470e+09</td>\n",
       "      <td>MN23</td>\n",
       "      <td>NaN</td>\n",
       "    </tr>\n",
       "    <tr>\n",
       "      <th>290019</th>\n",
       "      <td>40949905</td>\n",
       "      <td>KA WAH BAKERY</td>\n",
       "      <td>Manhattan</td>\n",
       "      <td>9</td>\n",
       "      <td>ELDRIDGE STREET</td>\n",
       "      <td>10002.0</td>\n",
       "      <td>2122260133</td>\n",
       "      <td>Chinese</td>\n",
       "      <td>7/13/2022</td>\n",
       "      <td>Violations were cited in the following area(s).</td>\n",
       "      <td>...</td>\n",
       "      <td>Cycle Inspection / Initial Inspection</td>\n",
       "      <td>40.714660</td>\n",
       "      <td>-73.993770</td>\n",
       "      <td>103.0</td>\n",
       "      <td>1.0</td>\n",
       "      <td>1600.0</td>\n",
       "      <td>1003772.0</td>\n",
       "      <td>1.002920e+09</td>\n",
       "      <td>MN27</td>\n",
       "      <td>NaN</td>\n",
       "    </tr>\n",
       "    <tr>\n",
       "      <th>290020</th>\n",
       "      <td>50121766</td>\n",
       "      <td>CROSSBAR / SOCCER POST UPPER WESTSIDE</td>\n",
       "      <td>Manhattan</td>\n",
       "      <td>250</td>\n",
       "      <td>WEST   86 STREET</td>\n",
       "      <td>10024.0</td>\n",
       "      <td>2126522238</td>\n",
       "      <td>American</td>\n",
       "      <td>11/14/2022</td>\n",
       "      <td>Violations were cited in the following area(s).</td>\n",
       "      <td>...</td>\n",
       "      <td>Administrative Miscellaneous / Initial Inspection</td>\n",
       "      <td>40.788484</td>\n",
       "      <td>-73.976942</td>\n",
       "      <td>107.0</td>\n",
       "      <td>6.0</td>\n",
       "      <td>17100.0</td>\n",
       "      <td>1081052.0</td>\n",
       "      <td>1.012330e+09</td>\n",
       "      <td>MN12</td>\n",
       "      <td>NaN</td>\n",
       "    </tr>\n",
       "    <tr>\n",
       "      <th>290021</th>\n",
       "      <td>41703865</td>\n",
       "      <td>SAFFRON</td>\n",
       "      <td>Queens</td>\n",
       "      <td>4404</td>\n",
       "      <td>BROADWAY</td>\n",
       "      <td>11103.0</td>\n",
       "      <td>7182556310</td>\n",
       "      <td>Indian</td>\n",
       "      <td>8/16/2022</td>\n",
       "      <td>Violations were cited in the following area(s).</td>\n",
       "      <td>...</td>\n",
       "      <td>Cycle Inspection / Initial Inspection</td>\n",
       "      <td>40.757393</td>\n",
       "      <td>-73.915669</td>\n",
       "      <td>401.0</td>\n",
       "      <td>26.0</td>\n",
       "      <td>15900.0</td>\n",
       "      <td>4012369.0</td>\n",
       "      <td>4.007070e+09</td>\n",
       "      <td>QN70</td>\n",
       "      <td>NaN</td>\n",
       "    </tr>\n",
       "  </tbody>\n",
       "</table>\n",
       "<p>290022 rows × 27 columns</p>\n",
       "</div>"
      ],
      "text/plain": [
       "            S.No                        Restaurant_Name Restaurant_location  \\\n",
       "0       50114537                        MAMA'S CUPBOARD           Manhattan   \n",
       "1       50164148                          TIENDA CHICOJ              Queens   \n",
       "2       50169870                TEX'S CHICKEN & BURGERS              Queens   \n",
       "3       50132087                       FANTASTIC BEASTS              Queens   \n",
       "4       50172040                      BROAD STREET DELI           Manhattan   \n",
       "...          ...                                    ...                 ...   \n",
       "290017  50121962                            BURGER KING            Brooklyn   \n",
       "290018  50150281                        MADMAN ESPRESSO           Manhattan   \n",
       "290019  40949905                          KA WAH BAKERY           Manhattan   \n",
       "290020  50121766  CROSSBAR / SOCCER POST UPPER WESTSIDE           Manhattan   \n",
       "290021  41703865                                SAFFRON              Queens   \n",
       "\n",
       "       building            street  zipcode       phone cuisine_description  \\\n",
       "0            42  WEST   42 STREET  10036.0  6469191465                 NaN   \n",
       "1         10840     ROOSEVELT AVE  11368.0  7189166374                 NaN   \n",
       "2         21712      MERRICK BLVD  11413.0  9178850048                 NaN   \n",
       "3         36-10      UNION STREET  11354.0  2538807717                 NaN   \n",
       "4           270       PARK AVENUE  10017.0  7043286780                 NaN   \n",
       "...         ...               ...      ...         ...                 ...   \n",
       "290017     9006     CHURCH AVENUE  11236.0  7184985574          Hamburgers   \n",
       "290018      721          BROADWAY  10003.0  3477811121          Coffee/Tea   \n",
       "290019        9   ELDRIDGE STREET  10002.0  2122260133             Chinese   \n",
       "290020      250  WEST   86 STREET  10024.0  2126522238            American   \n",
       "290021     4404          BROADWAY  11103.0  7182556310              Indian   \n",
       "\n",
       "       inspection_date                                           action  ...  \\\n",
       "0             1/1/1900                                              NaN  ...   \n",
       "1             1/1/1900                                              NaN  ...   \n",
       "2             1/1/1900                                              NaN  ...   \n",
       "3             1/1/1900                                              NaN  ...   \n",
       "4             1/1/1900                                              NaN  ...   \n",
       "...                ...                                              ...  ...   \n",
       "290017       6/17/2022  Violations were cited in the following area(s).  ...   \n",
       "290018       2/10/2025  Violations were cited in the following area(s).  ...   \n",
       "290019       7/13/2022  Violations were cited in the following area(s).  ...   \n",
       "290020      11/14/2022  Violations were cited in the following area(s).  ...   \n",
       "290021       8/16/2022  Violations were cited in the following area(s).  ...   \n",
       "\n",
       "                                          inspection_type   latitude  \\\n",
       "0                                                     NaN  40.754068   \n",
       "1                                                     NaN  40.750845   \n",
       "2                                                     NaN  40.679915   \n",
       "3                                                     NaN  40.763482   \n",
       "4                                                     NaN  40.755634   \n",
       "...                                                   ...        ...   \n",
       "290017      Pre-permit (Operational) / Initial Inspection  40.652872   \n",
       "290018      Pre-permit (Operational) / Initial Inspection  40.729306   \n",
       "290019              Cycle Inspection / Initial Inspection  40.714660   \n",
       "290020  Administrative Miscellaneous / Initial Inspection  40.788484   \n",
       "290021              Cycle Inspection / Initial Inspection  40.757393   \n",
       "\n",
       "        longitude  community_board council_district census_tract        bin  \\\n",
       "0      -73.982321            105.0              4.0       8400.0  1085593.0   \n",
       "1      -73.858280            404.0             21.0      40100.0  4307718.0   \n",
       "2      -73.752087            413.0             31.0      35800.0  4279942.0   \n",
       "3      -73.828056            407.0             20.0      86900.0  4112354.0   \n",
       "4      -73.975109            105.0              4.0       9400.0  1035421.0   \n",
       "...           ...              ...              ...          ...        ...   \n",
       "290017 -73.919806            317.0             42.0      88800.0  3103358.0   \n",
       "290018 -73.993502            102.0              2.0       5700.0  1088447.0   \n",
       "290019 -73.993770            103.0              1.0       1600.0  1003772.0   \n",
       "290020 -73.976942            107.0              6.0      17100.0  1081052.0   \n",
       "290021 -73.915669            401.0             26.0      15900.0  4012369.0   \n",
       "\n",
       "                 bbl   nta  location_point1  \n",
       "0       1.012570e+09  MN17              NaN  \n",
       "1       4.019960e+09  QN26              NaN  \n",
       "2       4.130110e+09  QN66              NaN  \n",
       "3       4.049770e+09  QN22              NaN  \n",
       "4       1.012830e+09  MN17              NaN  \n",
       "...              ...   ...              ...  \n",
       "290017  3.047110e+09  BK96              NaN  \n",
       "290018  1.005470e+09  MN23              NaN  \n",
       "290019  1.002920e+09  MN27              NaN  \n",
       "290020  1.012330e+09  MN12              NaN  \n",
       "290021  4.007070e+09  QN70              NaN  \n",
       "\n",
       "[290022 rows x 27 columns]"
      ]
     },
     "execution_count": 18,
     "metadata": {},
     "output_type": "execute_result"
    }
   ],
   "source": [
    "df.drop_duplicates()\n",
    "df"
   ]
  },
  {
   "cell_type": "markdown",
   "id": "6c29500a",
   "metadata": {},
   "source": [
    "Drop unwanted columns"
   ]
  },
  {
   "cell_type": "code",
   "execution_count": 19,
   "id": "e75e0c8d",
   "metadata": {},
   "outputs": [
    {
     "data": {
      "text/plain": [
       "Index(['S.No', 'Restaurant_Name', 'Restaurant_location', 'inspection_date',\n",
       "       'critical_flag', 'score', 'grade', 'grade_date', 'record_date',\n",
       "       'inspection_type'],\n",
       "      dtype='object')"
      ]
     },
     "execution_count": 19,
     "metadata": {},
     "output_type": "execute_result"
    }
   ],
   "source": [
    "df1=df.drop(['building','street','zipcode','phone','action','violation_code','violation_description','cuisine_description','latitude','longitude','community_board','council_district','census_tract','bin','bbl','nta','location_point1'], axis=1,errors='ignore')\n",
    "df1.columns"
   ]
  },
  {
   "cell_type": "markdown",
   "id": "9a6697f8",
   "metadata": {},
   "source": [
    "Changeing a datatype"
   ]
  },
  {
   "cell_type": "code",
   "execution_count": 20,
   "id": "541dfd41",
   "metadata": {},
   "outputs": [
    {
     "name": "stdout",
     "output_type": "stream",
     "text": [
      "<class 'pandas.core.frame.DataFrame'>\n",
      "RangeIndex: 290022 entries, 0 to 290021\n",
      "Data columns (total 10 columns):\n",
      " #   Column               Non-Null Count   Dtype         \n",
      "---  ------               --------------   -----         \n",
      " 0   S.No                 290022 non-null  int64         \n",
      " 1   Restaurant_Name      290015 non-null  object        \n",
      " 2   Restaurant_location  290022 non-null  object        \n",
      " 3   inspection_date      290022 non-null  datetime64[ns]\n",
      " 4   critical_flag        290022 non-null  object        \n",
      " 5   score                274080 non-null  float64       \n",
      " 6   grade                141303 non-null  object        \n",
      " 7   grade_date           133193 non-null  datetime64[ns]\n",
      " 8   record_date          290022 non-null  datetime64[ns]\n",
      " 9   inspection_type      286337 non-null  object        \n",
      "dtypes: datetime64[ns](3), float64(1), int64(1), object(5)\n",
      "memory usage: 22.1+ MB\n"
     ]
    }
   ],
   "source": [
    "df1.inspection_date=pd.to_datetime(df1.inspection_date)\n",
    "df1.grade_date=pd.to_datetime(df1.grade_date)\n",
    "df1.record_date=pd.to_datetime(df1.record_date)\n",
    "df1.info()"
   ]
  },
  {
   "cell_type": "markdown",
   "id": "95ef4dac",
   "metadata": {},
   "source": [
    "Filling null value"
   ]
  },
  {
   "cell_type": "code",
   "execution_count": 21,
   "id": "83239eef",
   "metadata": {},
   "outputs": [],
   "source": [
    "df1.loc[df1.Restaurant_Name.isnull(), 'Restaurant_Name']='Unavaibale'\n",
    "df1.loc[df1.inspection_type.isnull(), 'inspection_type']='Unavaibale'\n",
    "df1 = df1[df1['score'].notna() & (df1['score'] != 0)]\n",
    "df1 = df1[df1['grade'].notna() & (df1['grade'] != 0)]"
   ]
  },
  {
   "cell_type": "code",
   "execution_count": 22,
   "id": "80f28c8a",
   "metadata": {},
   "outputs": [],
   "source": [
    "df1_pz = df1[~df1['grade'].isin(['P', 'Z'])]"
   ]
  },
  {
   "cell_type": "code",
   "execution_count": null,
   "id": "cb891fec",
   "metadata": {},
   "outputs": [],
   "source": [
    "re_lo = df1_new[df1_new['Restaurant_location'] != \"0\"]"
   ]
  },
  {
   "cell_type": "markdown",
   "id": "baf3b8b4",
   "metadata": {},
   "source": [
    "Replace a null value with meadian"
   ]
  },
  {
   "cell_type": "code",
   "execution_count": 26,
   "id": "9496d551",
   "metadata": {},
   "outputs": [],
   "source": [
    "median_score = df1_pz['score'].median()\n",
    "df1_new = df1_pz.copy()\n",
    "df1_new['score'] = df1_new['score'].fillna(median_score)"
   ]
  },
  {
   "cell_type": "markdown",
   "id": "72deed55",
   "metadata": {},
   "source": [
    "Show without 0 in score "
   ]
  },
  {
   "cell_type": "code",
   "execution_count": 28,
   "id": "62c4214d",
   "metadata": {},
   "outputs": [],
   "source": [
    "df1_new = df1_new[df1_new['score'] != 0]"
   ]
  },
  {
   "cell_type": "code",
   "execution_count": 29,
   "id": "1f2010e1",
   "metadata": {},
   "outputs": [],
   "source": [
    "df1_new = df1_new[df1_new['score'].notna() & (df1_new['score'] != 0)]"
   ]
  },
  {
   "cell_type": "markdown",
   "id": "36c318fc",
   "metadata": {},
   "source": [
    "Split a grade by scores"
   ]
  },
  {
   "cell_type": "code",
   "execution_count": 57,
   "id": "440dbfeb",
   "metadata": {},
   "outputs": [],
   "source": [
    "df1_new['grade_date'] = pd.to_datetime(df1_new['grade_date'], errors='coerce')\n",
    "\n",
    "df1_new.loc[df1_new.grade_date.isnull(), 'grade_date'] = pd.Timestamp('2000-01-01')\n",
    "\n",
    "df1_new.loc[df1_new.inspection_type.isnull(), 'inspection_type'] = 'Unavailable'\n",
    "df1_new.loc[(df1_new.grade.isnull()) & (df1_new.score >= 1) & (df1_new.score <= 45), 'grade'] = 'A'\n",
    "df1_new.loc[(df1_new.grade.isnull()) & (df1_new.score >= 46) & (df1_new.score <= 70), 'grade'] = 'B'\n",
    "df1_new.loc[(df1_new.grade.isnull()) & (df1_new.score >= 71) & (df1_new.score <= 100), 'grade'] = 'C'\n",
    "df1_new.loc[(df1_new.grade.isnull()) & (df1_new.score == -1), 'grade'] = 'N'\n",
    "\n",
    "df1_new['grade_date'] = pd.to_datetime(df1_new['grade_date'], errors='coerce')\n",
    "\n",
    "df1_new.loc[df1_new.grade_date.isnull(), 'grade_date'] = pd.Timestamp('2000-01-01')\n",
    "\n",
    "df1_new.loc[df1_new.inspection_type.isnull(), 'inspection_type'] = 'Unavailable'\n"
   ]
  },
  {
   "cell_type": "markdown",
   "id": "ab8b8c53",
   "metadata": {},
   "source": [
    "After cleaning a data set Head 10 rows"
   ]
  },
  {
   "cell_type": "code",
   "execution_count": 58,
   "id": "ad06d988",
   "metadata": {},
   "outputs": [
    {
     "data": {
      "text/html": [
       "<div>\n",
       "<style scoped>\n",
       "    .dataframe tbody tr th:only-of-type {\n",
       "        vertical-align: middle;\n",
       "    }\n",
       "\n",
       "    .dataframe tbody tr th {\n",
       "        vertical-align: top;\n",
       "    }\n",
       "\n",
       "    .dataframe thead th {\n",
       "        text-align: right;\n",
       "    }\n",
       "</style>\n",
       "<table border=\"1\" class=\"dataframe\">\n",
       "  <thead>\n",
       "    <tr style=\"text-align: right;\">\n",
       "      <th></th>\n",
       "      <th>S.No</th>\n",
       "      <th>Restaurant_Name</th>\n",
       "      <th>Restaurant_location</th>\n",
       "      <th>inspection_date</th>\n",
       "      <th>critical_flag</th>\n",
       "      <th>score</th>\n",
       "      <th>grade</th>\n",
       "      <th>grade_date</th>\n",
       "      <th>record_date</th>\n",
       "      <th>inspection_type</th>\n",
       "      <th>grade_num</th>\n",
       "    </tr>\n",
       "  </thead>\n",
       "  <tbody>\n",
       "    <tr>\n",
       "      <th>18</th>\n",
       "      <td>41459621</td>\n",
       "      <td>GINO'S BRICK OVEN PIZZA &amp; TRATTORIA</td>\n",
       "      <td>Brooklyn</td>\n",
       "      <td>2021-09-03</td>\n",
       "      <td>Critical</td>\n",
       "      <td>13.0</td>\n",
       "      <td>A</td>\n",
       "      <td>2021-09-03</td>\n",
       "      <td>2025-09-11</td>\n",
       "      <td>Cycle Inspection / Initial Inspection</td>\n",
       "      <td>1</td>\n",
       "    </tr>\n",
       "    <tr>\n",
       "      <th>33</th>\n",
       "      <td>41020005</td>\n",
       "      <td>UNCLE BILL'S DINER</td>\n",
       "      <td>Queens</td>\n",
       "      <td>2023-04-07</td>\n",
       "      <td>Critical</td>\n",
       "      <td>12.0</td>\n",
       "      <td>A</td>\n",
       "      <td>2023-04-07</td>\n",
       "      <td>2025-09-11</td>\n",
       "      <td>Cycle Inspection / Initial Inspection</td>\n",
       "      <td>1</td>\n",
       "    </tr>\n",
       "    <tr>\n",
       "      <th>59</th>\n",
       "      <td>50141902</td>\n",
       "      <td>NEW SKY BAKERYLAND</td>\n",
       "      <td>Brooklyn</td>\n",
       "      <td>2025-02-05</td>\n",
       "      <td>Critical</td>\n",
       "      <td>33.0</td>\n",
       "      <td>C</td>\n",
       "      <td>2025-02-05</td>\n",
       "      <td>2025-09-11</td>\n",
       "      <td>Cycle Inspection / Re-inspection</td>\n",
       "      <td>3</td>\n",
       "    </tr>\n",
       "    <tr>\n",
       "      <th>69</th>\n",
       "      <td>50073587</td>\n",
       "      <td>DUKE EATERY</td>\n",
       "      <td>Manhattan</td>\n",
       "      <td>2024-03-21</td>\n",
       "      <td>Critical</td>\n",
       "      <td>13.0</td>\n",
       "      <td>A</td>\n",
       "      <td>2024-03-21</td>\n",
       "      <td>2025-09-11</td>\n",
       "      <td>Cycle Inspection / Re-inspection</td>\n",
       "      <td>1</td>\n",
       "    </tr>\n",
       "    <tr>\n",
       "      <th>72</th>\n",
       "      <td>41461802</td>\n",
       "      <td>DIG INN SEASONAL MARKET</td>\n",
       "      <td>Manhattan</td>\n",
       "      <td>2022-04-04</td>\n",
       "      <td>Critical</td>\n",
       "      <td>10.0</td>\n",
       "      <td>A</td>\n",
       "      <td>2022-04-04</td>\n",
       "      <td>2025-09-11</td>\n",
       "      <td>Cycle Inspection / Initial Inspection</td>\n",
       "      <td>1</td>\n",
       "    </tr>\n",
       "  </tbody>\n",
       "</table>\n",
       "</div>"
      ],
      "text/plain": [
       "        S.No                      Restaurant_Name Restaurant_location  \\\n",
       "18  41459621  GINO'S BRICK OVEN PIZZA & TRATTORIA            Brooklyn   \n",
       "33  41020005                   UNCLE BILL'S DINER              Queens   \n",
       "59  50141902                   NEW SKY BAKERYLAND            Brooklyn   \n",
       "69  50073587                          DUKE EATERY           Manhattan   \n",
       "72  41461802              DIG INN SEASONAL MARKET           Manhattan   \n",
       "\n",
       "   inspection_date critical_flag  score grade grade_date record_date  \\\n",
       "18      2021-09-03      Critical   13.0     A 2021-09-03  2025-09-11   \n",
       "33      2023-04-07      Critical   12.0     A 2023-04-07  2025-09-11   \n",
       "59      2025-02-05      Critical   33.0     C 2025-02-05  2025-09-11   \n",
       "69      2024-03-21      Critical   13.0     A 2024-03-21  2025-09-11   \n",
       "72      2022-04-04      Critical   10.0     A 2022-04-04  2025-09-11   \n",
       "\n",
       "                          inspection_type  grade_num  \n",
       "18  Cycle Inspection / Initial Inspection          1  \n",
       "33  Cycle Inspection / Initial Inspection          1  \n",
       "59       Cycle Inspection / Re-inspection          3  \n",
       "69       Cycle Inspection / Re-inspection          1  \n",
       "72  Cycle Inspection / Initial Inspection          1  "
      ]
     },
     "execution_count": 58,
     "metadata": {},
     "output_type": "execute_result"
    }
   ],
   "source": [
    "df1_new.head()"
   ]
  },
  {
   "cell_type": "markdown",
   "id": "9b9b28df",
   "metadata": {},
   "source": [
    "After cleaning a data set Tail 10 rows"
   ]
  },
  {
   "cell_type": "code",
   "execution_count": 32,
   "id": "636dd503",
   "metadata": {},
   "outputs": [
    {
     "data": {
      "text/html": [
       "<div>\n",
       "<style scoped>\n",
       "    .dataframe tbody tr th:only-of-type {\n",
       "        vertical-align: middle;\n",
       "    }\n",
       "\n",
       "    .dataframe tbody tr th {\n",
       "        vertical-align: top;\n",
       "    }\n",
       "\n",
       "    .dataframe thead th {\n",
       "        text-align: right;\n",
       "    }\n",
       "</style>\n",
       "<table border=\"1\" class=\"dataframe\">\n",
       "  <thead>\n",
       "    <tr style=\"text-align: right;\">\n",
       "      <th></th>\n",
       "      <th>S.No</th>\n",
       "      <th>Restaurant_Name</th>\n",
       "      <th>Restaurant_location</th>\n",
       "      <th>inspection_date</th>\n",
       "      <th>critical_flag</th>\n",
       "      <th>score</th>\n",
       "      <th>grade</th>\n",
       "      <th>grade_date</th>\n",
       "      <th>record_date</th>\n",
       "      <th>inspection_type</th>\n",
       "    </tr>\n",
       "  </thead>\n",
       "  <tbody>\n",
       "    <tr>\n",
       "      <th>290011</th>\n",
       "      <td>50143569</td>\n",
       "      <td>CAFE JULIET</td>\n",
       "      <td>Staten Island</td>\n",
       "      <td>2024-03-06</td>\n",
       "      <td>Not Critical</td>\n",
       "      <td>13.0</td>\n",
       "      <td>A</td>\n",
       "      <td>2024-03-06</td>\n",
       "      <td>2025-09-11</td>\n",
       "      <td>Pre-permit (Operational) / Initial Inspection</td>\n",
       "    </tr>\n",
       "    <tr>\n",
       "      <th>290013</th>\n",
       "      <td>50137991</td>\n",
       "      <td>PLANTSHED</td>\n",
       "      <td>Manhattan</td>\n",
       "      <td>2025-09-03</td>\n",
       "      <td>Not Critical</td>\n",
       "      <td>9.0</td>\n",
       "      <td>A</td>\n",
       "      <td>2025-09-03</td>\n",
       "      <td>2025-09-11</td>\n",
       "      <td>Cycle Inspection / Re-inspection</td>\n",
       "    </tr>\n",
       "    <tr>\n",
       "      <th>290015</th>\n",
       "      <td>50101588</td>\n",
       "      <td>BROOKLYN BAGEL &amp; COFFEE COMPANY</td>\n",
       "      <td>Queens</td>\n",
       "      <td>2023-12-04</td>\n",
       "      <td>Not Critical</td>\n",
       "      <td>4.0</td>\n",
       "      <td>A</td>\n",
       "      <td>2023-12-04</td>\n",
       "      <td>2025-09-11</td>\n",
       "      <td>Cycle Inspection / Initial Inspection</td>\n",
       "    </tr>\n",
       "    <tr>\n",
       "      <th>290017</th>\n",
       "      <td>50121962</td>\n",
       "      <td>BURGER KING</td>\n",
       "      <td>Brooklyn</td>\n",
       "      <td>2022-06-17</td>\n",
       "      <td>Not Critical</td>\n",
       "      <td>13.0</td>\n",
       "      <td>A</td>\n",
       "      <td>2022-06-17</td>\n",
       "      <td>2025-09-11</td>\n",
       "      <td>Pre-permit (Operational) / Initial Inspection</td>\n",
       "    </tr>\n",
       "    <tr>\n",
       "      <th>290018</th>\n",
       "      <td>50150281</td>\n",
       "      <td>MADMAN ESPRESSO</td>\n",
       "      <td>Manhattan</td>\n",
       "      <td>2025-02-10</td>\n",
       "      <td>Critical</td>\n",
       "      <td>46.0</td>\n",
       "      <td>N</td>\n",
       "      <td>2000-01-01</td>\n",
       "      <td>2025-09-11</td>\n",
       "      <td>Pre-permit (Operational) / Initial Inspection</td>\n",
       "    </tr>\n",
       "  </tbody>\n",
       "</table>\n",
       "</div>"
      ],
      "text/plain": [
       "            S.No                  Restaurant_Name Restaurant_location  \\\n",
       "290011  50143569                      CAFE JULIET       Staten Island   \n",
       "290013  50137991                        PLANTSHED           Manhattan   \n",
       "290015  50101588  BROOKLYN BAGEL & COFFEE COMPANY              Queens   \n",
       "290017  50121962                      BURGER KING            Brooklyn   \n",
       "290018  50150281                  MADMAN ESPRESSO           Manhattan   \n",
       "\n",
       "       inspection_date critical_flag  score grade grade_date record_date  \\\n",
       "290011      2024-03-06  Not Critical   13.0     A 2024-03-06  2025-09-11   \n",
       "290013      2025-09-03  Not Critical    9.0     A 2025-09-03  2025-09-11   \n",
       "290015      2023-12-04  Not Critical    4.0     A 2023-12-04  2025-09-11   \n",
       "290017      2022-06-17  Not Critical   13.0     A 2022-06-17  2025-09-11   \n",
       "290018      2025-02-10      Critical   46.0     N 2000-01-01  2025-09-11   \n",
       "\n",
       "                                      inspection_type  \n",
       "290011  Pre-permit (Operational) / Initial Inspection  \n",
       "290013               Cycle Inspection / Re-inspection  \n",
       "290015          Cycle Inspection / Initial Inspection  \n",
       "290017  Pre-permit (Operational) / Initial Inspection  \n",
       "290018  Pre-permit (Operational) / Initial Inspection  "
      ]
     },
     "execution_count": 32,
     "metadata": {},
     "output_type": "execute_result"
    }
   ],
   "source": [
    "df1_new.tail()"
   ]
  },
  {
   "cell_type": "markdown",
   "id": "09d23b62",
   "metadata": {},
   "source": [
    "Create a new column called grade_num if A=1,B=2,C=3,D=4"
   ]
  },
  {
   "cell_type": "code",
   "execution_count": 33,
   "id": "28ee154d",
   "metadata": {},
   "outputs": [],
   "source": [
    "grade_map = {\"A\": 1,\"B\": 2,\"C\": 3,\"N\": 4}\n",
    "df1_new['grade_num'] =df1_new['grade'].map(grade_map)"
   ]
  },
  {
   "cell_type": "markdown",
   "id": "d38207d0",
   "metadata": {},
   "source": [
    "After cleaning a data to find null value"
   ]
  },
  {
   "cell_type": "code",
   "execution_count": 34,
   "id": "67ee66f7",
   "metadata": {},
   "outputs": [
    {
     "data": {
      "text/plain": [
       "S.No                   0\n",
       "Restaurant_Name        0\n",
       "Restaurant_location    0\n",
       "inspection_date        0\n",
       "critical_flag          0\n",
       "score                  0\n",
       "grade                  0\n",
       "grade_date             0\n",
       "record_date            0\n",
       "inspection_type        0\n",
       "grade_num              0\n",
       "dtype: int64"
      ]
     },
     "execution_count": 34,
     "metadata": {},
     "output_type": "execute_result"
    }
   ],
   "source": [
    "df1_new.isnull().sum()"
   ]
  },
  {
   "cell_type": "markdown",
   "id": "8914c24a",
   "metadata": {},
   "source": [
    "# Outlier"
   ]
  },
  {
   "cell_type": "code",
   "execution_count": 35,
   "id": "2eaf9d16",
   "metadata": {},
   "outputs": [
    {
     "data": {
      "image/png": "[encoded data removed]",
      "text/plain": [
       "<Figure size 640x480 with 1 Axes>"
      ]
     },
     "metadata": {},
     "output_type": "display_data"
    }
   ],
   "source": [
    "import statistics\n",
    "out=df1_new['score']\n",
    "plt.boxplot(out,vert=False)\n",
    "plt.title(\"Boxplot with out Outlier\")\n",
    "plt.xlabel('Score')\n",
    "plt.ylabel('Outlier')\n",
    "plt.show()"
   ]
  },
  {
   "cell_type": "markdown",
   "id": "af120f33",
   "metadata": {},
   "source": [
    "After replace with mean value in Outlier"
   ]
  },
  {
   "cell_type": "code",
   "execution_count": 36,
   "id": "0ad9254c",
   "metadata": {},
   "outputs": [
    {
     "name": "stdout",
     "output_type": "stream",
     "text": [
      "Mean Value is : 16.076706592731384\n",
      "IQR is : 8.0\n",
      "Lower Bond : -2.0\n",
      "Upper Bond : 22.0\n",
      "\n",
      "\n"
     ]
    },
    {
     "data": {
      "image/png": "[encoded data removed]",
      "text/plain": [
       "<Figure size 640x480 with 1 Axes>"
      ]
     },
     "metadata": {},
     "output_type": "display_data"
    }
   ],
   "source": [
    "import statistics\n",
    "out=df1_new['score'].dropna()\n",
    "\n",
    "mean_val=np.mean(out)\n",
    "mean_val\n",
    "\n",
    "q1=np.percentile(out,25)\n",
    "q3=np.percentile(out,75)\n",
    "iqr=q3-q1\n",
    "lower=q1-1.5*iqr\n",
    "upper=q1+1.5*iqr\n",
    "\n",
    "median_val = statistics.median(out)\n",
    "\n",
    "print(f\"Mean Value is : {mean_val}\")\n",
    "print(f\"IQR is : {iqr}\")\n",
    "print(f\"Lower Bond : {lower}\")\n",
    "print(f\"Upper Bond : {upper}\")\n",
    "print(\"\\n\")\n",
    "out_replaced = np.where((out < lower) | (out > upper), mean_val, out)\n",
    "plt.boxplot(out_replaced,vert=False)\n",
    "plt.title(\"Boxplot with out Outlier\")\n",
    "plt.xlabel('Score')\n",
    "plt.ylabel('Outlier')\n",
    "plt.show()"
   ]
  },
  {
   "cell_type": "markdown",
   "id": "994d0d40",
   "metadata": {},
   "source": [
    "# statistics Test\n"
   ]
  },
  {
   "cell_type": "markdown",
   "id": "6cb3e973",
   "metadata": {},
   "source": [
    "Chi-square test is use to find relationship between two group"
   ]
  },
  {
   "cell_type": "code",
   "execution_count": null,
   "id": "6e90ff52",
   "metadata": {},
   "outputs": [
    {
     "name": "stdout",
     "output_type": "stream",
     "text": [
      "Chi-square Statistic: 676.0455458635186\n",
      "Degrees of Freedom: 12\n",
      "P-value: 5.896252577007812e-137\n",
      "There is a significant relationship between Restaurant_location and grade.\n"
     ]
    }
   ],
   "source": [
    "# Chi-square test of independence\n",
    "\n",
    "from scipy.stats import chi2_contingency\n",
    "contingency_table = pd.crosstab(df1_new['Restaurant_location'], df1_new['grade'])\n",
    "\n",
    "chi2, p, dof, expected = chi2_contingency(contingency_table)\n",
    "\n",
    "print(\"Chi-square Statistic:\", chi2)\n",
    "print(\"Degrees of Freedom:\", dof)\n",
    "print(\"P-value:\", p)\n",
    "\n",
    "if p < 0.05:\n",
    "    print(\"There is a significant relationship between Restaurant_location and grade.\")\n",
    "else:\n",
    "    print(\"No significant relationship between Restaurant_location and grade.\")"
   ]
  },
  {
   "cell_type": "markdown",
   "id": "8f4ca841",
   "metadata": {},
   "source": [
    "One sample t test is used to test a popuulation mean and sample mean are equal or not"
   ]
  },
  {
   "cell_type": "code",
   "execution_count": null,
   "id": "6f40fede",
   "metadata": {},
   "outputs": [
    {
     "name": "stdout",
     "output_type": "stream",
     "text": [
      "Mean value is 16.0\n",
      "[13. 18. 10.  9. 10. 20. 13. 12. 12. 12.]\n",
      "p-value is :0.0187267005716692\n",
      "reject the null hypothesis\n"
     ]
    }
   ],
   "source": [
    "# One sample T-test\n",
    "\n",
    "from scipy import stats\n",
    "\n",
    "score=df1_new['score']\n",
    "mean_val1=np.mean(score)\n",
    "print(f'Mean value is {mean_val1.round()}')\n",
    "\n",
    "np.random.seed(10)\n",
    "sample_size=10\n",
    "sample_test=np.random.choice(score,sample_size)\n",
    "print(sample_test)\n",
    "\n",
    "_,p_value = stats.ttest_1samp(a=sample_test,popmean=mean_val1)\n",
    "\n",
    "print(f'p-value is :{p_value}')\n",
    "\n",
    "if p_value<0.05:\n",
    "    print(\"reject the null hypothesis\")\n",
    "else:\n",
    "    print(\"Accept the null hypothesis\")"
   ]
  },
  {
   "cell_type": "markdown",
   "id": "e26fa11f",
   "metadata": {},
   "source": [
    "The sample mean is very close to the population mean of score."
   ]
  },
  {
   "cell_type": "markdown",
   "id": "ba197530",
   "metadata": {},
   "source": []
  },
  {
   "cell_type": "code",
   "execution_count": null,
   "id": "b3509c8a",
   "metadata": {},
   "outputs": [
    {
     "name": "stdout",
     "output_type": "stream",
     "text": [
      "T-statistic: -4.79763458932588\n",
      "P-value: 1.6082794480324917e-06\n",
      "The mean inspection scores are significantly different between Manhattan and Brooklyn.\n"
     ]
    }
   ],
   "source": [
    "# independent t-test    \n",
    "\n",
    "from scipy.stats import ttest_ind\n",
    "\n",
    "group1 = df1_new[df1_new['Restaurant_location'] == 'Manhattan']['score'].dropna()\n",
    "group2 = df1_new[df1_new['Restaurant_location'] == 'Brooklyn']['score'].dropna()\n",
    "\n",
    "t_stat, p_val = ttest_ind(group1, group2, equal_var=True) \n",
    "\n",
    "print(\"T-statistic:\", t_stat)\n",
    "print(\"P-value:\", p_val)\n",
    "\n",
    "if p_val < 0.05:\n",
    "    print(\"The mean inspection scores are significantly different between Manhattan and Brooklyn.\")\n",
    "else:\n",
    "    print(\"No significant difference in mean inspection scores between Manhattan and Brooklyn.\")"
   ]
  },
  {
   "cell_type": "markdown",
   "id": "33a10073",
   "metadata": {},
   "source": [
    "Restaurants have different average inspection scores"
   ]
  },
  {
   "cell_type": "code",
   "execution_count": 40,
   "id": "46e51ac0",
   "metadata": {},
   "outputs": [
    {
     "name": "stdout",
     "output_type": "stream",
     "text": [
      "['Brooklyn' 'Queens' 'Manhattan' 'Bronx' 'Staten Island']\n"
     ]
    },
    {
     "data": {
      "text/plain": [
       "Restaurant_location\n",
       "Manhattan        49337\n",
       "Brooklyn         33868\n",
       "Queens           31561\n",
       "Bronx            12144\n",
       "Staten Island     4917\n",
       "Name: count, dtype: int64"
      ]
     },
     "execution_count": 40,
     "metadata": {},
     "output_type": "execute_result"
    }
   ],
   "source": [
    "locations = df1_new['Restaurant_location'].unique()\n",
    "print(locations)\n",
    "df1_new['Restaurant_location'].value_counts()"
   ]
  },
  {
   "cell_type": "code",
   "execution_count": null,
   "id": "a8942d29",
   "metadata": {},
   "outputs": [
    {
     "name": "stdout",
     "output_type": "stream",
     "text": [
      "F-statistic: 112.60108871918268\n",
      "P-value: 5.19596213493181e-96\n",
      "Mean inspection scores differ significantly across locations.\n"
     ]
    }
   ],
   "source": [
    "# Anova Test\n",
    "\n",
    "from scipy.stats import f_oneway\n",
    "\n",
    "Brooklyn_scores = df1_new[df1_new['Restaurant_location']=='Brooklyn']['score'].dropna()\n",
    "Queens_scores = df1_new[df1_new['Restaurant_location']=='Queens']['score'].dropna()\n",
    "Manhattan_scores = df1_new[df1_new['Restaurant_location']=='Manhattan']['score'].dropna()\n",
    "Bronx_scores = df1_new[df1_new['Restaurant_location']=='Bronx']['score'].dropna()\n",
    "Staten_Island_scores = df1_new[df1_new['Restaurant_location']=='Staten Island']['score'].dropna()\n",
    "\n",
    "f_stat, p_val = f_oneway(Brooklyn_scores, Queens_scores, Manhattan_scores, Bronx_scores, Staten_Island_scores)\n",
    "\n",
    "print(\"F-statistic:\", f_stat)\n",
    "print(\"P-value:\", p_val)\n",
    "\n",
    "if p_val < 0.05:\n",
    "    print(\"Mean inspection scores differ significantly across locations.\")\n",
    "else:\n",
    "    print(\"No significant difference in mean inspection scores across locations.\")"
   ]
  },
  {
   "cell_type": "markdown",
   "id": "26f977a1",
   "metadata": {},
   "source": [
    "At least one restaurant location has different average inspection scores from the others."
   ]
  },
  {
   "cell_type": "markdown",
   "id": "7a787ea0",
   "metadata": {},
   "source": [
    "# Univariate\n"
   ]
  },
  {
   "cell_type": "code",
   "execution_count": 42,
   "id": "63260118",
   "metadata": {},
   "outputs": [
    {
     "data": {
      "image/png": "[encoded data removed]",
      "text/plain": [
       "<Figure size 640x480 with 1 Axes>"
      ]
     },
     "metadata": {},
     "output_type": "display_data"
    }
   ],
   "source": [
    "sos.histplot(df1_new['score'], bins=10)\n",
    "plt.title(\"Distribution of Scores\")\n",
    "plt.show()"
   ]
  },
  {
   "cell_type": "code",
   "execution_count": 43,
   "id": "e3734c15",
   "metadata": {},
   "outputs": [
    {
     "data": {
      "image/png": "[encoded data removed]",
      "text/plain": [
       "<Figure size 640x480 with 1 Axes>"
      ]
     },
     "metadata": {},
     "output_type": "display_data"
    }
   ],
   "source": [
    "sos.histplot(df1_new['grade'])\n",
    "plt.title(\"Distribution of grade\")\n",
    "plt.show()"
   ]
  },
  {
   "cell_type": "code",
   "execution_count": 44,
   "id": "751431b9",
   "metadata": {},
   "outputs": [
    {
     "data": {
      "image/png": "[encoded data removed]",
      "text/plain": [
       "<Figure size 600x600 with 1 Axes>"
      ]
     },
     "metadata": {},
     "output_type": "display_data"
    }
   ],
   "source": [
    "location_counts = df1_new['Restaurant_location'].value_counts()\n",
    "plt.figure(figsize=(6,6))\n",
    "plt.pie(location_counts,autopct='%1.1f%%',labels=location_counts.index)\n",
    "plt.title(\"Restaurant Locations\")\n",
    "plt.show()"
   ]
  },
  {
   "cell_type": "markdown",
   "id": "7cddf3a1",
   "metadata": {},
   "source": [
    "# Bivariate"
   ]
  },
  {
   "cell_type": "code",
   "execution_count": 45,
   "id": "f5e05a04",
   "metadata": {},
   "outputs": [
    {
     "data": {
      "image/png": "[encoded data removed]",
      "text/plain": [
       "<Figure size 640x480 with 1 Axes>"
      ]
     },
     "metadata": {},
     "output_type": "display_data"
    }
   ],
   "source": [
    "sos.barplot(x='grade', y='score', data=df1_new)\n",
    "plt.title(\"Scores by Location\")\n",
    "plt.show()"
   ]
  },
  {
   "cell_type": "code",
   "execution_count": 63,
   "id": "c6d5fcd8",
   "metadata": {},
   "outputs": [
    {
     "data": {
      "image/png": "[encoded data removed]",
      "text/plain": [
       "<Figure size 640x480 with 1 Axes>"
      ]
     },
     "metadata": {},
     "output_type": "display_data"
    }
   ],
   "source": [
    "sos.barplot(x='inspection_type', y='score', data=df1_new)\n",
    "plt.title(\"Scores by Location\")\n",
    "plt.xticks(rotation=90)\n",
    "plt.show()"
   ]
  },
  {
   "cell_type": "code",
   "execution_count": 46,
   "id": "ed7c81c6",
   "metadata": {},
   "outputs": [
    {
     "data": {
      "image/png": "[encoded data removed]",
      "text/plain": [
       "<Figure size 640x480 with 1 Axes>"
      ]
     },
     "metadata": {},
     "output_type": "display_data"
    }
   ],
   "source": [
    "sos.lineplot(x='Restaurant_location', y='score', data=df1_new)\n",
    "plt.title(\"Scores by Location\")\n",
    "plt.show()"
   ]
  },
  {
   "cell_type": "code",
   "execution_count": 48,
   "id": "750d2f1e",
   "metadata": {},
   "outputs": [
    {
     "data": {
      "image/png": "[encoded data removed]",
      "text/plain": [
       "<Figure size 640x480 with 1 Axes>"
      ]
     },
     "metadata": {},
     "output_type": "display_data"
    }
   ],
   "source": [
    "sos.boxplot(x='Restaurant_location', y='score', data=df1_new)\n",
    "plt.title(\"Scores by Location\")\n",
    "plt.show()"
   ]
  },
  {
   "cell_type": "markdown",
   "id": "439159fb",
   "metadata": {},
   "source": [
    "# Multivariate"
   ]
  },
  {
   "cell_type": "code",
   "execution_count": 51,
   "id": "08a620a4",
   "metadata": {},
   "outputs": [
    {
     "data": {
      "image/png": "[encoded data removed]",
      "text/plain": [
       "<Figure size 1000x600 with 1 Axes>"
      ]
     },
     "metadata": {},
     "output_type": "display_data"
    }
   ],
   "source": [
    "plt.figure(figsize=(10,6))\n",
    "sos.boxplot(x=\"grade_num\", y=\"score\", hue=\"Restaurant_location\", data=df1_new)\n",
    "plt.title(\"Score Distribution by Grade and Restaurant location\")\n",
    "plt.show()\n"
   ]
  },
  {
   "cell_type": "markdown",
   "id": "b4fcc549",
   "metadata": {},
   "source": [
    "Grade Distribution: Most restaurants received an A grade, with fewer B and C grades, indicating overall good compliance.\n",
    "\n",
    "Many restaurants improved their grades after re-inspection, highlighting the effectiveness of the grading program."
   ]
  }
 ],
 "metadata": {
  "kernelspec": {
   "display_name": "Python 3",
   "language": "python",
   "name": "python3"
  },
  "language_info": {
   "codemirror_mode": {
    "name": "ipython",
    "version": 3
   },
   "file_extension": ".py",
   "mimetype": "text/x-python",
   "name": "python",
   "nbconvert_exporter": "python",
   "pygments_lexer": "ipython3",
   "version": "3.11.9"
  }
 },
 "nbformat": 4,
 "nbformat_minor": 5
}
